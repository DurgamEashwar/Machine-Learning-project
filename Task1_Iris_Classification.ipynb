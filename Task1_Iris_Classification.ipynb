{
  "nbformat": 4,
  "nbformat_minor": 0,
  "metadata": {
    "colab": {
      "provenance": [],
      "authorship_tag": "ABX9TyOlr3OkbQKftCqRkRuNXQ8O",
      "include_colab_link": true
    },
    "kernelspec": {
      "name": "python3",
      "display_name": "Python 3"
    },
    "language_info": {
      "name": "python"
    }
  },
  "cells": [
    {
      "cell_type": "markdown",
      "metadata": {
        "id": "view-in-github",
        "colab_type": "text"
      },
      "source": [
        "<a href=\"https://colab.research.google.com/github/DurgamEashwar/Machine-Learning-project/blob/main/Task1_Iris_Classification.ipynb\" target=\"_parent\"><img src=\"https://colab.research.google.com/assets/colab-badge.svg\" alt=\"Open In Colab\"/></a>"
      ]
    },
    {
      "cell_type": "code",
      "source": [
        "#Task-1: Build a classification model using the Iris dataset. Use decision tree or logistic regression to predict the flower species."
      ],
      "metadata": {
        "id": "SbXswUML254A"
      },
      "execution_count": null,
      "outputs": []
    },
    {
      "cell_type": "code",
      "source": [
        "# Import Libraries\n",
        "# Import pandas for data handling\n",
        "import pandas as pd\n",
        "\n",
        "# Import numpy for numerical operations (optional here)\n",
        "import numpy as np\n",
        "\n",
        "# For splitting data into training and testing sets\n",
        "from sklearn.model_selection import train_test_split\n",
        "\n",
        "# For converting text labels into numeric\n",
        "from sklearn.preprocessing import LabelEncoder\n",
        "\n",
        "# Decision Tree Classifier\n",
        "from sklearn.tree import DecisionTreeClassifier\n",
        "\n",
        "# Logistic Regression Classifier\n",
        "from sklearn.linear_model import LogisticRegression\n",
        "\n",
        "# For evaluation metrics\n",
        "from sklearn.metrics import accuracy_score, classification_report, confusion_matrix\n",
        "\n",
        "# For plotting (optional but useful)\n",
        "import matplotlib.pyplot as plt\n",
        "import seaborn as sns"
      ],
      "metadata": {
        "id": "llKpsWRQl3aZ"
      },
      "execution_count": null,
      "outputs": []
    },
    {
      "cell_type": "code",
      "source": [
        "#Load the dataset\n",
        "\n",
        "# Load the Excel file (make sure it's in the same directory)\n",
        "df = pd.read_excel(\"IRIS.csv.xlsx\")\n",
        "\n",
        "# Display the first 5 rows to understand structure\n",
        "print(df.head())"
      ],
      "metadata": {
        "colab": {
          "base_uri": "https://localhost:8080/"
        },
        "id": "EItY2VJXyTUR",
        "outputId": "0d520e4f-4365-40b0-ea47-466f0d888a44"
      },
      "execution_count": null,
      "outputs": [
        {
          "output_type": "stream",
          "name": "stdout",
          "text": [
            "   sepal_length  sepal_width  petal_length  petal_width      species\n",
            "0           5.1          3.5           1.4          0.2  Iris-setosa\n",
            "1           4.9          3.0           1.4          0.2  Iris-setosa\n",
            "2           4.7          3.2           1.3          0.2  Iris-setosa\n",
            "3           4.6          3.1           1.5          0.2  Iris-setosa\n",
            "4           5.0          3.6           1.4          0.2  Iris-setosa\n"
          ]
        }
      ]
    },
    {
      "cell_type": "code",
      "source": [
        "# (categorical) to numeric values using LabelEncoder\n",
        "le = LabelEncoder()\n",
        "df['species'] = le.fit_transform(df['species'])\n",
        "\n",
        "# Print first 5 rows after encoding\n",
        "print(df.head())"
      ],
      "metadata": {
        "colab": {
          "base_uri": "https://localhost:8080/"
        },
        "id": "YKcFsIZPpSeg",
        "outputId": "6fb233f9-e99f-4074-c0be-d5c74dd680a4"
      },
      "execution_count": null,
      "outputs": [
        {
          "output_type": "stream",
          "name": "stdout",
          "text": [
            "sepal_length    0\n",
            "sepal_width     0\n",
            "petal_length    0\n",
            "petal_width     0\n",
            "species         0\n",
            "dtype: int64\n",
            "   sepal_length  sepal_width  petal_length  petal_width  species\n",
            "0           5.1          3.5           1.4          0.2        0\n",
            "1           4.9          3.0           1.4          0.2        0\n",
            "2           4.7          3.2           1.3          0.2        0\n",
            "3           4.6          3.1           1.5          0.2        0\n",
            "4           5.0          3.6           1.4          0.2        0\n"
          ]
        }
      ]
    },
    {
      "cell_type": "code",
      "source": [
        "#Split the Dataset into Train and Test Sets\n",
        "\n",
        "# Separate features (X) and labels (y)\n",
        "X = df.drop('species', axis=1)  # Features\n",
        "y = df['species']               # Target column\n",
        "\n",
        "# Split dataset into training and testing (80% train, 20% test)\n",
        "X_train, X_test, y_train, y_test = train_test_split(\n",
        "    X, y, test_size=0.2, random_state=42)\n",
        "\n",
        "# Show shape of train and test data\n",
        "print(\"Train shape:\", X_train.shape)\n",
        "print(\"Test shape:\", X_test.shape)"
      ],
      "metadata": {
        "colab": {
          "base_uri": "https://localhost:8080/"
        },
        "id": "lHoOKi5Qp0vN",
        "outputId": "269568f1-2ea4-4019-e373-b2e3d529c637"
      },
      "execution_count": null,
      "outputs": [
        {
          "output_type": "stream",
          "name": "stdout",
          "text": [
            "Train shape: (120, 4)\n",
            "Test shape: (30, 4)\n"
          ]
        }
      ]
    },
    {
      "cell_type": "code",
      "source": [
        " #Step 5: Train Decision Tree Classifier and Evaluate\n",
        "\n",
        "# Import the model\n",
        "from sklearn.tree import DecisionTreeClassifier\n",
        "\n",
        "# Initialize the Decision Tree Classifier\n",
        "dt_model = DecisionTreeClassifier()\n",
        "\n",
        "# Train the model using training data\n",
        "dt_model.fit(X_train, y_train)\n",
        "\n",
        "# Use the trained model to predict on the test data\n",
        "y_pred_dt = dt_model.predict(X_test)\n",
        "\n",
        "# Calculate accuracy and convert it to percentage\n",
        "dt_accuracy = accuracy_score(y_test, y_pred_dt) * 100\n",
        "\n",
        "# Print accuracy in percentage format with 2 decimal places\n",
        "print(f\"Decision Tree Accuracy: {dt_accuracy:.2f}%\")\n",
        "\n",
        "# Display precision, recall, f1-score, and support for each class\n",
        "print(\"Classification Report:\\n\", classification_report(y_test, y_pred_dt))\n",
        "\n",
        "# Show confusion matrix for detailed prediction results\n",
        "print(\"Confusion Matrix:\\n\", confusion_matrix(y_test, y_pred_dt))"
      ],
      "metadata": {
        "colab": {
          "base_uri": "https://localhost:8080/"
        },
        "id": "P-L0sM_9quq0",
        "outputId": "bdadb880-f9cc-4b05-bf1b-058a6957a234"
      },
      "execution_count": null,
      "outputs": [
        {
          "output_type": "stream",
          "name": "stdout",
          "text": [
            "Decision Tree Accuracy: 100.00%\n",
            "Classification Report:\n",
            "               precision    recall  f1-score   support\n",
            "\n",
            "           0       1.00      1.00      1.00        10\n",
            "           1       1.00      1.00      1.00         9\n",
            "           2       1.00      1.00      1.00        11\n",
            "\n",
            "    accuracy                           1.00        30\n",
            "   macro avg       1.00      1.00      1.00        30\n",
            "weighted avg       1.00      1.00      1.00        30\n",
            "\n",
            "Confusion Matrix:\n",
            " [[10  0  0]\n",
            " [ 0  9  0]\n",
            " [ 0  0 11]]\n"
          ]
        }
      ]
    },
    {
      "cell_type": "code",
      "source": [
        "#Step 6: Train Logistic Regression and Evaluate\n",
        "\n",
        "# Import the model\n",
        "from sklearn.linear_model import LogisticRegression\n",
        "\n",
        "# Initialize Logistic Regression model\n",
        "# max_iter is set to 200 to ensure convergence\n",
        "lr_model = LogisticRegression(max_iter=200)\n",
        "\n",
        "# Train the model using training data\n",
        "lr_model.fit(X_train, y_train)\n",
        "\n",
        "# Predict the labels on test data\n",
        "y_pred_lr = lr_model.predict(X_test)\n",
        "\n",
        "# Calculate accuracy and convert it to percentage\n",
        "lr_accuracy = accuracy_score(y_test, y_pred_lr) * 100\n",
        "\n",
        "# Print accuracy in percentage format with 2 decimal places\n",
        "print(f\"Logistic Regression Accuracy: {lr_accuracy:.2f}%\")\n",
        "\n",
        "# Show precision, recall, f1-score\n",
        "print(\"Classification Report:\\n\", classification_report(y_test, y_pred_lr))\n",
        "\n",
        "# Display confusion matrix\n",
        "print(\"Confusion Matrix:\\n\", confusion_matrix(y_test, y_pred_lr))"
      ],
      "metadata": {
        "colab": {
          "base_uri": "https://localhost:8080/"
        },
        "collapsed": true,
        "id": "0--xnsfYrJZZ",
        "outputId": "3806f626-c2e5-4d78-81d9-2129f59ea377"
      },
      "execution_count": null,
      "outputs": [
        {
          "output_type": "stream",
          "name": "stdout",
          "text": [
            "Logistic Regression Accuracy: 100.00%\n",
            "Classification Report:\n",
            "               precision    recall  f1-score   support\n",
            "\n",
            "           0       1.00      1.00      1.00        10\n",
            "           1       1.00      1.00      1.00         9\n",
            "           2       1.00      1.00      1.00        11\n",
            "\n",
            "    accuracy                           1.00        30\n",
            "   macro avg       1.00      1.00      1.00        30\n",
            "weighted avg       1.00      1.00      1.00        30\n",
            "\n",
            "Confusion Matrix:\n",
            " [[10  0  0]\n",
            " [ 0  9  0]\n",
            " [ 0  0 11]]\n"
          ]
        }
      ]
    },
    {
      "cell_type": "code",
      "source": [
        "# Plot confusion matrix for Decision Tree\n",
        "sns.heatmap(confusion_matrix(y_test, y_pred_dt), annot=True, cmap='Blues', fmt='d')\n",
        "plt.title(\"Decision Tree Confusion Matrix\")\n",
        "plt.xlabel(\"Predicted\")\n",
        "plt.ylabel(\"Actual\")\n",
        "plt.show()"
      ],
      "metadata": {
        "colab": {
          "base_uri": "https://localhost:8080/",
          "height": 472
        },
        "id": "KEpVN0VzzKGR",
        "outputId": "37f8814d-b08b-470f-da90-c522f5b462f5"
      },
      "execution_count": null,
      "outputs": [
        {
          "output_type": "display_data",
          "data": {
            "text/plain": [
              "<Figure size 640x480 with 2 Axes>"
            ],
            "image/png": "[encoded data removed]"
          },
          "metadata": {}
        }
      ]
    },
    {
      "cell_type": "code",
      "source": [
        "#Preprocessed the dataset\n",
        "#Trained two models\n",
        "#Evaluated both with accuracy and classification report\n",
        "#Visualized results"
      ],
      "metadata": {
        "id": "XdoVGg_AzVTd"
      },
      "execution_count": null,
      "outputs": []
    },
    {
      "cell_type": "code",
      "source": [
        "import numpy as np\n",
        "from sklearn.tree import DecisionTreeClassifier\n",
        "from sklearn.metrics import accuracy_score, classification_report, confusion_matrix\n",
        "\n",
        "#  Step 1: Change the random_state in train_test_split (e.g., 13)\n",
        "from sklearn.model_selection import train_test_split\n",
        "X_train, X_test, y_train, y_test = train_test_split(\n",
        "    X, y, test_size=0.2, random_state=13)\n",
        "\n",
        "#  Step 2: Add small random noise to training features\n",
        "X_train_noisy = X_train + np.random.normal(0, 0.2, X_train.shape)\n",
        "\n",
        "#  Step 3: Limit decision tree complexity (reduce overfitting)\n",
        "dt_model = DecisionTreeClassifier(max_depth=2)\n",
        "\n",
        "# Train the model using noisy training data\n",
        "dt_model.fit(X_train_noisy, y_train)\n",
        "\n",
        "# Predict on original (clean) test data\n",
        "y_pred_dt = dt_model.predict(X_test)\n",
        "\n",
        "# Calculate accuracy in percentage\n",
        "dt_accuracy = accuracy_score(y_test, y_pred_dt) * 100\n",
        "print(f\"Decision Tree Accuracy: {dt_accuracy:.2f}%\")\n",
        "\n",
        "# Print detailed metrics\n",
        "print(\"Classification Report:\\n\", classification_report(y_test, y_pred_dt))\n",
        "print(\"Confusion Matrix:\\n\", confusion_matrix(y_test, y_pred_dt))\n"
      ],
      "metadata": {
        "colab": {
          "base_uri": "https://localhost:8080/"
        },
        "id": "LzkABc0I9_Tm",
        "outputId": "652ad883-9e61-4866-d2b4-7b8b65cb1af9"
      },
      "execution_count": null,
      "outputs": [
        {
          "output_type": "stream",
          "name": "stdout",
          "text": [
            "Decision Tree Accuracy: 90.00%\n",
            "Classification Report:\n",
            "               precision    recall  f1-score   support\n",
            "\n",
            "           0       1.00      1.00      1.00         9\n",
            "           1       0.73      1.00      0.84         8\n",
            "           2       1.00      0.77      0.87        13\n",
            "\n",
            "    accuracy                           0.90        30\n",
            "   macro avg       0.91      0.92      0.90        30\n",
            "weighted avg       0.93      0.90      0.90        30\n",
            "\n",
            "Confusion Matrix:\n",
            " [[ 9  0  0]\n",
            " [ 0  8  0]\n",
            " [ 0  3 10]]\n"
          ]
        }
      ]
    }
  ]
}